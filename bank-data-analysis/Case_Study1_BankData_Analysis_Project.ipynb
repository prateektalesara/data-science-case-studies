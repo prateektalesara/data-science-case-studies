{
  "nbformat": 4,
  "nbformat_minor": 0,
  "metadata": {
    "anaconda-cloud": {},
    "kernelspec": {
      "display_name": "Python 3",
      "language": "python",
      "name": "python3"
    },
    "language_info": {
      "codemirror_mode": {
        "name": "ipython",
        "version": 3
      },
      "file_extension": ".py",
      "mimetype": "text/x-python",
      "name": "python",
      "nbconvert_exporter": "python",
      "pygments_lexer": "ipython3",
      "version": "3.6.2"
    },
    "colab": {
      "name": "DataScience_Case_Study1-BankData_Analysis_Project.ipynb",
      "provenance": [],
      "collapsed_sections": [],
      "toc_visible": true
    }
  },
  "cells": [
    {
      "cell_type": "markdown",
      "metadata": {
        "id": "JmoNnlSnvGA9",
        "colab_type": "text"
      },
      "source": [
        "# Bank Data Set Case-Study1 - Project"
      ]
    },
    {
      "cell_type": "markdown",
      "metadata": {
        "id": "yvMoWcewvGBE",
        "colab_type": "text"
      },
      "source": [
        "## Project Description:\n",
        "\n",
        "##### **Data Source:** \n",
        "The data set can be sourced from the official UCI repository using the link: https://archive.ics.uci.edu/ml/datasets/bank+marketing \n",
        "##### **Data Overview:**\n",
        "The data is related to direct marketing campaigns (Out bound phone calls) of a Portuguese banking institution. The aim is to predict if the client will subscribe a term deposit (variable name: y).\n"
      ]
    },
    {
      "cell_type": "code",
      "metadata": {
        "id": "cowGBfyUvGBG",
        "colab_type": "code",
        "colab": {}
      },
      "source": [
        "import numpy as np\n",
        "import pandas as pd\n",
        "import random\n",
        "import warnings\n",
        "warnings.filterwarnings(\"ignore\")\n",
        "import seaborn as sns\n",
        "import matplotlib.pyplot as plt\n",
        "%matplotlib inline\n",
        "from sklearn.model_selection import GridSearchCV"
      ],
      "execution_count": 3,
      "outputs": []
    },
    {
      "cell_type": "code",
      "metadata": {
        "id": "8qeR_kLavGBM",
        "colab_type": "code",
        "colab": {
          "base_uri": "https://localhost:8080/",
          "height": 221
        },
        "outputId": "53969f6c-66e6-4fcb-a62d-6672614b500a"
      },
      "source": [
        "df=pd.read_csv(\"bank.csv\",sep=';')\n",
        "print(df.shape)\n",
        "df.head()"
      ],
      "execution_count": 4,
      "outputs": [
        {
          "output_type": "stream",
          "text": [
            "(45211, 17)\n"
          ],
          "name": "stdout"
        },
        {
          "output_type": "execute_result",
          "data": {
            "text/html": [
              "<div>\n",
              "<style scoped>\n",
              "    .dataframe tbody tr th:only-of-type {\n",
              "        vertical-align: middle;\n",
              "    }\n",
              "\n",
              "    .dataframe tbody tr th {\n",
              "        vertical-align: top;\n",
              "    }\n",
              "\n",
              "    .dataframe thead th {\n",
              "        text-align: right;\n",
              "    }\n",
              "</style>\n",
              "<table border=\"1\" class=\"dataframe\">\n",
              "  <thead>\n",
              "    <tr style=\"text-align: right;\">\n",
              "      <th></th>\n",
              "      <th>age</th>\n",
              "      <th>job</th>\n",
              "      <th>marital</th>\n",
              "      <th>education</th>\n",
              "      <th>default</th>\n",
              "      <th>balance</th>\n",
              "      <th>housing</th>\n",
              "      <th>loan</th>\n",
              "      <th>contact</th>\n",
              "      <th>day</th>\n",
              "      <th>month</th>\n",
              "      <th>duration</th>\n",
              "      <th>campaign</th>\n",
              "      <th>pdays</th>\n",
              "      <th>previous</th>\n",
              "      <th>poutcome</th>\n",
              "      <th>y</th>\n",
              "    </tr>\n",
              "  </thead>\n",
              "  <tbody>\n",
              "    <tr>\n",
              "      <th>0</th>\n",
              "      <td>58</td>\n",
              "      <td>management</td>\n",
              "      <td>married</td>\n",
              "      <td>tertiary</td>\n",
              "      <td>no</td>\n",
              "      <td>2143</td>\n",
              "      <td>yes</td>\n",
              "      <td>no</td>\n",
              "      <td>unknown</td>\n",
              "      <td>5</td>\n",
              "      <td>may</td>\n",
              "      <td>261</td>\n",
              "      <td>1</td>\n",
              "      <td>-1</td>\n",
              "      <td>0</td>\n",
              "      <td>unknown</td>\n",
              "      <td>no</td>\n",
              "    </tr>\n",
              "    <tr>\n",
              "      <th>1</th>\n",
              "      <td>44</td>\n",
              "      <td>technician</td>\n",
              "      <td>single</td>\n",
              "      <td>secondary</td>\n",
              "      <td>no</td>\n",
              "      <td>29</td>\n",
              "      <td>yes</td>\n",
              "      <td>no</td>\n",
              "      <td>unknown</td>\n",
              "      <td>5</td>\n",
              "      <td>may</td>\n",
              "      <td>151</td>\n",
              "      <td>1</td>\n",
              "      <td>-1</td>\n",
              "      <td>0</td>\n",
              "      <td>unknown</td>\n",
              "      <td>no</td>\n",
              "    </tr>\n",
              "    <tr>\n",
              "      <th>2</th>\n",
              "      <td>33</td>\n",
              "      <td>entrepreneur</td>\n",
              "      <td>married</td>\n",
              "      <td>secondary</td>\n",
              "      <td>no</td>\n",
              "      <td>2</td>\n",
              "      <td>yes</td>\n",
              "      <td>yes</td>\n",
              "      <td>unknown</td>\n",
              "      <td>5</td>\n",
              "      <td>may</td>\n",
              "      <td>76</td>\n",
              "      <td>1</td>\n",
              "      <td>-1</td>\n",
              "      <td>0</td>\n",
              "      <td>unknown</td>\n",
              "      <td>no</td>\n",
              "    </tr>\n",
              "    <tr>\n",
              "      <th>3</th>\n",
              "      <td>47</td>\n",
              "      <td>blue-collar</td>\n",
              "      <td>married</td>\n",
              "      <td>unknown</td>\n",
              "      <td>no</td>\n",
              "      <td>1506</td>\n",
              "      <td>yes</td>\n",
              "      <td>no</td>\n",
              "      <td>unknown</td>\n",
              "      <td>5</td>\n",
              "      <td>may</td>\n",
              "      <td>92</td>\n",
              "      <td>1</td>\n",
              "      <td>-1</td>\n",
              "      <td>0</td>\n",
              "      <td>unknown</td>\n",
              "      <td>no</td>\n",
              "    </tr>\n",
              "    <tr>\n",
              "      <th>4</th>\n",
              "      <td>33</td>\n",
              "      <td>unknown</td>\n",
              "      <td>single</td>\n",
              "      <td>unknown</td>\n",
              "      <td>no</td>\n",
              "      <td>1</td>\n",
              "      <td>no</td>\n",
              "      <td>no</td>\n",
              "      <td>unknown</td>\n",
              "      <td>5</td>\n",
              "      <td>may</td>\n",
              "      <td>198</td>\n",
              "      <td>1</td>\n",
              "      <td>-1</td>\n",
              "      <td>0</td>\n",
              "      <td>unknown</td>\n",
              "      <td>no</td>\n",
              "    </tr>\n",
              "  </tbody>\n",
              "</table>\n",
              "</div>"
            ],
            "text/plain": [
              "   age           job  marital  education  ... pdays  previous poutcome   y\n",
              "0   58    management  married   tertiary  ...    -1         0  unknown  no\n",
              "1   44    technician   single  secondary  ...    -1         0  unknown  no\n",
              "2   33  entrepreneur  married  secondary  ...    -1         0  unknown  no\n",
              "3   47   blue-collar  married    unknown  ...    -1         0  unknown  no\n",
              "4   33       unknown   single    unknown  ...    -1         0  unknown  no\n",
              "\n",
              "[5 rows x 17 columns]"
            ]
          },
          "metadata": {
            "tags": []
          },
          "execution_count": 4
        }
      ]
    },
    {
      "cell_type": "markdown",
      "metadata": {
        "id": "ES6Pd0tnvGBW",
        "colab_type": "text"
      },
      "source": [
        "# Exploratory Analysis:"
      ]
    },
    {
      "cell_type": "markdown",
      "metadata": {
        "id": "YFvonmf9vGBX",
        "colab_type": "text"
      },
      "source": [
        "## Categorical Variables:"
      ]
    },
    {
      "cell_type": "markdown",
      "metadata": {
        "id": "U4tX5qRVvGBX",
        "colab_type": "text"
      },
      "source": [
        "We first start the exploratory analysis of the categorical variables and see what are the categories and are there any missing values for these categories. Here, we used the seaborn package to create the bar graphs below."
      ]
    },
    {
      "cell_type": "code",
      "metadata": {
        "id": "Fv6-byCJvGBY",
        "colab_type": "code",
        "colab": {
          "base_uri": "https://localhost:8080/",
          "height": 1000
        },
        "outputId": "3d91af58-bfa1-4255-fcb7-126107f84822"
      },
      "source": [
        "categorcial_variables = ['job', 'marital', 'education', 'default', 'loan', 'contact', 'month', 'day', 'poutcome','y']\n",
        "for col in categorcial_variables:\n",
        "    plt.figure(figsize=(10,4))\n",
        "    sns.barplot(df[col].value_counts().values, df[col].value_counts().index)\n",
        "    plt.title(col)\n",
        "    plt.tight_layout()"
      ],
      "execution_count": 6,
      "outputs": [
        {
          "output_type": "display_data",
          "data": {
            "image/png": "[encoded data removed]",
            "text/plain": [
              "<Figure size 720x288 with 1 Axes>"
            ]
          },
          "metadata": {
            "tags": [],
            "needs_background": "light"
          }
        },
        {
          "output_type": "display_data",
          "data": {
            "image/png": "[encoded data removed]",
            "text/plain": [
              "<Figure size 720x288 with 1 Axes>"
            ]
          },
          "metadata": {
            "tags": [],
            "needs_background": "light"
          }
        },
        {
          "output_type": "display_data",
          "data": {
            "image/png": "[encoded data removed]",
            "text/plain": [
              "<Figure size 720x288 with 1 Axes>"
            ]
          },
          "metadata": {
            "tags": [],
            "needs_background": "light"
          }
        },
        {
          "output_type": "display_data",
          "data": {
            "image/png": "[encoded data removed]",
            "text/plain": [
              "<Figure size 720x288 with 1 Axes>"
            ]
          },
          "metadata": {
            "tags": [],
            "needs_background": "light"
          }
        },
        {
          "output_type": "display_data",
          "data": {
            "image/png": "[encoded data removed]",
            "text/plain": [
              "<Figure size 720x288 with 1 Axes>"
            ]
          },
          "metadata": {
            "tags": [],
            "needs_background": "light"
          }
        },
        {
          "output_type": "display_data",
          "data": {
            "image/png": "[encoded data removed]",
            "text/plain": [
              "<Figure size 720x288 with 1 Axes>"
            ]
          },
          "metadata": {
            "tags": [],
            "needs_background": "light"
          }
        },
        {
          "output_type": "display_data",
          "data": {
            "image/png": "[encoded data removed]",
            "text/plain": [
              "<Figure size 720x288 with 1 Axes>"
            ]
          },
          "metadata": {
            "tags": [],
            "needs_background": "light"
          }
        },
        {
          "output_type": "display_data",
          "data": {
            "image/png": "[encoded data removed]",
            "text/plain": [
              "<Figure size 720x288 with 1 Axes>"
            ]
          },
          "metadata": {
            "tags": [],
            "needs_background": "light"
          }
        },
        {
          "output_type": "display_data",
          "data": {
            "image/png": "[encoded data removed]",
            "text/plain": [
              "<Figure size 720x288 with 1 Axes>"
            ]
          },
          "metadata": {
            "tags": [],
            "needs_background": "light"
          }
        },
        {
          "output_type": "display_data",
          "data": {
            "image/png": "[encoded data removed]",
            "text/plain": [
              "<Figure size 720x288 with 1 Axes>"
            ]
          },
          "metadata": {
            "tags": [],
            "needs_background": "light"
          }
        }
      ]
    },
    {
      "cell_type": "markdown",
      "metadata": {
        "id": "Vj_UzRyVvGBc",
        "colab_type": "text"
      },
      "source": [
        "\n",
        "## List of normalized relative frequency of the target class per category. \n",
        "\n",
        "Normalized distribution of each class per feature and plotted difference between positive and negative frequencies. Positive values imply this category favors clients that will subscribe and negative values categories that favor not buying the product."
      ]
    },
    {
      "cell_type": "code",
      "metadata": {
        "scrolled": true,
        "id": "BSUDFfnHvGBc",
        "colab_type": "code",
        "colab": {
          "base_uri": "https://localhost:8080/",
          "height": 1000
        },
        "outputId": "eb756e04-942a-406c-ea81-a1388b4887fb"
      },
      "source": [
        "categorcial_variables = ['job', 'marital', 'education', 'default', 'loan', 'contact', 'month', 'day', 'poutcome','y']\n",
        "for col in categorcial_variables:\n",
        "    plt.figure(figsize=(10,4))\n",
        "    #Returns counts of unique values for each outcome for each feature.\n",
        "    pos_counts = df.loc[df.y.values == 'yes', col].value_counts() \n",
        "    neg_counts = df.loc[df.y.values == 'no', col].value_counts()\n",
        "    \n",
        "    all_counts = list(set(list(pos_counts.index) + list(neg_counts.index)))\n",
        "    \n",
        "    #Counts of how often each outcome was recorded.\n",
        "    freq_pos = (df.y.values == 'yes').sum()\n",
        "    freq_neg = (df.y.values == 'no').sum()\n",
        "    \n",
        "    pos_counts = pos_counts.to_dict()\n",
        "    neg_counts = neg_counts.to_dict()\n",
        "    \n",
        "    all_index = list(all_counts)\n",
        "    all_counts = [pos_counts.get(k, 0) / freq_pos - neg_counts.get(k, 0) / freq_neg for k in all_counts]\n",
        "\n",
        "    sns.barplot(all_counts, all_index)\n",
        "    plt.title(col)\n",
        "    plt.tight_layout()"
      ],
      "execution_count": 7,
      "outputs": [
        {
          "output_type": "display_data",
          "data": {
            "image/png": "[encoded data removed]",
            "text/plain": [
              "<Figure size 720x288 with 1 Axes>"
            ]
          },
          "metadata": {
            "tags": [],
            "needs_background": "light"
          }
        },
        {
          "output_type": "display_data",
          "data": {
            "image/png": "[encoded data removed]",
            "text/plain": [
              "<Figure size 720x288 with 1 Axes>"
            ]
          },
          "metadata": {
            "tags": [],
            "needs_background": "light"
          }
        },
        {
          "output_type": "display_data",
          "data": {
            "image/png": "[encoded data removed]",
            "text/plain": [
              "<Figure size 720x288 with 1 Axes>"
            ]
          },
          "metadata": {
            "tags": [],
            "needs_background": "light"
          }
        },
        {
          "output_type": "display_data",
          "data": {
            "image/png": "[encoded data removed]",
            "text/plain": [
              "<Figure size 720x288 with 1 Axes>"
            ]
          },
          "metadata": {
            "tags": [],
            "needs_background": "light"
          }
        },
        {
          "output_type": "display_data",
          "data": {
            "image/png": "[encoded data removed]",
            "text/plain": [
              "<Figure size 720x288 with 1 Axes>"
            ]
          },
          "metadata": {
            "tags": [],
            "needs_background": "light"
          }
        },
        {
          "output_type": "display_data",
          "data": {
            "image/png": "[encoded data removed]",
            "text/plain": [
              "<Figure size 720x288 with 1 Axes>"
            ]
          },
          "metadata": {
            "tags": [],
            "needs_background": "light"
          }
        },
        {
          "output_type": "display_data",
          "data": {
            "image/png": "[encoded data removed]",
            "text/plain": [
              "<Figure size 720x288 with 1 Axes>"
            ]
          },
          "metadata": {
            "tags": [],
            "needs_background": "light"
          }
        },
        {
          "output_type": "display_data",
          "data": {
            "image/png": "[encoded data removed]",
            "text/plain": [
              "<Figure size 720x288 with 1 Axes>"
            ]
          },
          "metadata": {
            "tags": [],
            "needs_background": "light"
          }
        },
        {
          "output_type": "display_data",
          "data": {
            "image/png": "[encoded data removed]",
            "text/plain": [
              "<Figure size 720x288 with 1 Axes>"
            ]
          },
          "metadata": {
            "tags": [],
            "needs_background": "light"
          }
        },
        {
          "output_type": "display_data",
          "data": {
            "image/png": "[encoded data removed]",
            "text/plain": [
              "<Figure size 720x288 with 1 Axes>"
            ]
          },
          "metadata": {
            "tags": [],
            "needs_background": "light"
          }
        }
      ]
    },
    {
      "cell_type": "markdown",
      "metadata": {
        "id": "zi6mkD_8vGBg",
        "colab_type": "text"
      },
      "source": [
        "**Inference/Result**: There are unknown values for many variables in the Data set. There are many ways to handle missing data. One of the ways is to discard the row but that would lead to reduction of data set and hence would not serve our purpose of building an accurate and realistic prediction model.\n",
        "\n",
        "Other method is to smartly infer the value of the unknown variable from the other variables. This a way of doing an imputation where we use other independent variables to infer the value of the missing variable. This doesn't gurantee that all missing values will be addressed but majority of them will have a reasonable which can be useful in the prediction. \n",
        "\n",
        "Variables with unknown/missing values are : 'education', 'job', 'housing', 'loan', 'deafult', and 'marital'. But the significant ones are 'education', 'job', 'housing', and 'loan'. The number of unknowns  for 'marital' is very low. The unknown for 'default' variable are considered to be recorded as unknown. It may be possible that customer is not willing to disclose this information to the banking representative. Hence the unknown value in 'default' is actually a separate value.\n",
        "\n",
        "Therefore, we start with creating new variables for the unknown values in 'education', 'job', 'housing' and 'loan'. We do this to see if the values are missing at random or is there a pattern in the missing values."
      ]
    },
    {
      "cell_type": "code",
      "metadata": {
        "id": "JFOjbOnXvGBh",
        "colab_type": "code",
        "colab": {}
      },
      "source": [
        "## Creating new variables (variable name + '_un') to capture the information if the missing values are at random or is there\n",
        "## a pattern in the missing values.\n",
        "significant_cat_variables = ['education','job','housing','loan']\n",
        "for var in significant_cat_variables:\n",
        "    #df[var + '_un'] = 0\n",
        "    #df[var + '_un'][df[var]=='unknown'] = 1\n",
        "    #FIXME one-line coding\n",
        "    df[var + '_un'] = (df[var] == 'unknown').astype(int)"
      ],
      "execution_count": 9,
      "outputs": []
    },
    {
      "cell_type": "markdown",
      "metadata": {
        "id": "UU4avXBEvGBm",
        "colab_type": "text"
      },
      "source": [
        "## Imputation:"
      ]
    },
    {
      "cell_type": "markdown",
      "metadata": {
        "id": "KLk6tFKzvGBm",
        "colab_type": "text"
      },
      "source": [
        "Now, to infer the missing values in 'job' and 'education', we make use of the cross-tabulation between 'job' and 'education'. Our hypothesis here is that 'job' is influenced by the 'education' of a person. Hence, we can infer 'job' based on the education of the person. Moreover, since we are just filling the missing values, we are not much concerned about the causal inference. We, therefore, can use the job to predict the education."
      ]
    },
    {
      "cell_type": "code",
      "metadata": {
        "id": "cow52GDIvGBn",
        "colab_type": "code",
        "colab": {}
      },
      "source": [
        "def cross_tab(df,f1,f2):\n",
        "    jobs=list(df[f1].unique())\n",
        "    edu=list(df[f2].unique())\n",
        "    dataframes=[]\n",
        "    for e in edu:\n",
        "        dfe=df[df[f2]==e]\n",
        "        dfejob=dfe.groupby(f1).count()[f2]\n",
        "        dataframes.append(dfejob)\n",
        "    xx=pd.concat(dataframes,axis=1)\n",
        "    xx.columns=edu\n",
        "    xx=xx.fillna(0)\n",
        "    return xx"
      ],
      "execution_count": 10,
      "outputs": []
    },
    {
      "cell_type": "code",
      "metadata": {
        "id": "_xz11KiavGBr",
        "colab_type": "code",
        "colab": {
          "base_uri": "https://localhost:8080/",
          "height": 452
        },
        "outputId": "d65b08be-83e7-4243-a6d0-a74e78ce2e83"
      },
      "source": [
        "cross_tab(df,'job','education')"
      ],
      "execution_count": 11,
      "outputs": [
        {
          "output_type": "execute_result",
          "data": {
            "text/html": [
              "<div>\n",
              "<style scoped>\n",
              "    .dataframe tbody tr th:only-of-type {\n",
              "        vertical-align: middle;\n",
              "    }\n",
              "\n",
              "    .dataframe tbody tr th {\n",
              "        vertical-align: top;\n",
              "    }\n",
              "\n",
              "    .dataframe thead th {\n",
              "        text-align: right;\n",
              "    }\n",
              "</style>\n",
              "<table border=\"1\" class=\"dataframe\">\n",
              "  <thead>\n",
              "    <tr style=\"text-align: right;\">\n",
              "      <th></th>\n",
              "      <th>tertiary</th>\n",
              "      <th>secondary</th>\n",
              "      <th>unknown</th>\n",
              "      <th>primary</th>\n",
              "    </tr>\n",
              "    <tr>\n",
              "      <th>job</th>\n",
              "      <th></th>\n",
              "      <th></th>\n",
              "      <th></th>\n",
              "      <th></th>\n",
              "    </tr>\n",
              "  </thead>\n",
              "  <tbody>\n",
              "    <tr>\n",
              "      <th>admin.</th>\n",
              "      <td>572</td>\n",
              "      <td>4219</td>\n",
              "      <td>171</td>\n",
              "      <td>209</td>\n",
              "    </tr>\n",
              "    <tr>\n",
              "      <th>blue-collar</th>\n",
              "      <td>149</td>\n",
              "      <td>5371</td>\n",
              "      <td>454</td>\n",
              "      <td>3758</td>\n",
              "    </tr>\n",
              "    <tr>\n",
              "      <th>entrepreneur</th>\n",
              "      <td>686</td>\n",
              "      <td>542</td>\n",
              "      <td>76</td>\n",
              "      <td>183</td>\n",
              "    </tr>\n",
              "    <tr>\n",
              "      <th>housemaid</th>\n",
              "      <td>173</td>\n",
              "      <td>395</td>\n",
              "      <td>45</td>\n",
              "      <td>627</td>\n",
              "    </tr>\n",
              "    <tr>\n",
              "      <th>management</th>\n",
              "      <td>7801</td>\n",
              "      <td>1121</td>\n",
              "      <td>242</td>\n",
              "      <td>294</td>\n",
              "    </tr>\n",
              "    <tr>\n",
              "      <th>retired</th>\n",
              "      <td>366</td>\n",
              "      <td>984</td>\n",
              "      <td>119</td>\n",
              "      <td>795</td>\n",
              "    </tr>\n",
              "    <tr>\n",
              "      <th>self-employed</th>\n",
              "      <td>833</td>\n",
              "      <td>577</td>\n",
              "      <td>39</td>\n",
              "      <td>130</td>\n",
              "    </tr>\n",
              "    <tr>\n",
              "      <th>services</th>\n",
              "      <td>202</td>\n",
              "      <td>3457</td>\n",
              "      <td>150</td>\n",
              "      <td>345</td>\n",
              "    </tr>\n",
              "    <tr>\n",
              "      <th>student</th>\n",
              "      <td>223</td>\n",
              "      <td>508</td>\n",
              "      <td>163</td>\n",
              "      <td>44</td>\n",
              "    </tr>\n",
              "    <tr>\n",
              "      <th>technician</th>\n",
              "      <td>1968</td>\n",
              "      <td>5229</td>\n",
              "      <td>242</td>\n",
              "      <td>158</td>\n",
              "    </tr>\n",
              "    <tr>\n",
              "      <th>unemployed</th>\n",
              "      <td>289</td>\n",
              "      <td>728</td>\n",
              "      <td>29</td>\n",
              "      <td>257</td>\n",
              "    </tr>\n",
              "    <tr>\n",
              "      <th>unknown</th>\n",
              "      <td>39</td>\n",
              "      <td>71</td>\n",
              "      <td>127</td>\n",
              "      <td>51</td>\n",
              "    </tr>\n",
              "  </tbody>\n",
              "</table>\n",
              "</div>"
            ],
            "text/plain": [
              "               tertiary  secondary  unknown  primary\n",
              "job                                                 \n",
              "admin.              572       4219      171      209\n",
              "blue-collar         149       5371      454     3758\n",
              "entrepreneur        686        542       76      183\n",
              "housemaid           173        395       45      627\n",
              "management         7801       1121      242      294\n",
              "retired             366        984      119      795\n",
              "self-employed       833        577       39      130\n",
              "services            202       3457      150      345\n",
              "student             223        508      163       44\n",
              "technician         1968       5229      242      158\n",
              "unemployed          289        728       29      257\n",
              "unknown              39         71      127       51"
            ]
          },
          "metadata": {
            "tags": []
          },
          "execution_count": 11
        }
      ]
    },
    {
      "cell_type": "code",
      "metadata": {
        "id": "Z7gvlXwIvGBu",
        "colab_type": "code",
        "colab": {
          "base_uri": "https://localhost:8080/",
          "height": 221
        },
        "outputId": "29c20548-14c5-4698-a997-959b502c227d"
      },
      "source": [
        "df['job'][df['age']>60].value_counts()"
      ],
      "execution_count": 12,
      "outputs": [
        {
          "output_type": "execute_result",
          "data": {
            "text/plain": [
              "retired          875\n",
              "management       105\n",
              "housemaid         56\n",
              "technician        30\n",
              "blue-collar       26\n",
              "admin.            25\n",
              "self-employed     24\n",
              "unknown           22\n",
              "entrepreneur      13\n",
              "unemployed        10\n",
              "services           2\n",
              "Name: job, dtype: int64"
            ]
          },
          "metadata": {
            "tags": []
          },
          "execution_count": 12
        }
      ]
    },
    {
      "cell_type": "markdown",
      "metadata": {
        "id": "gIBJYixTvGBy",
        "colab_type": "text"
      },
      "source": [
        "** Inferring education from jobs **: From the cross-tabulation, it can be seen that people with management jobs usually have a university degree. Hence wherever 'job' = management and 'education' = unknown, we can replace 'education' with 'university.degree'. Similarly, 'job' = 'services' --> 'education' = 'high.school' and 'job' = 'housemaid' --> 'education' = 'basic.4y'.\n",
        "\n",
        "** Inferring jobs from education **: If 'education' = 'basic.4y' or 'basic.6y' or 'basic.9y' then the 'job' is usually 'blue-collar'. If 'education' = 'professional.course', then the 'job' = 'technician'.\n",
        "\n",
        "** Inferring jobs from age**: As we see, if 'age' > 60, then the 'job' is 'retired,' which makes sense.\n",
        "\n",
        "While imputing the values for job and education, we were cognizant of the fact that the correlations should make real world sense. If it didn't make real world sense, we didn't replace the missing values."
      ]
    },
    {
      "cell_type": "code",
      "metadata": {
        "id": "ROdktU1kvGBz",
        "colab_type": "code",
        "colab": {}
      },
      "source": [
        "df.loc[(df['age']>60) & (df['job']=='unknown'), 'job'] = 'retired'\n",
        "df.loc[(df['education']=='unknown') & (df['job']=='management'), 'education'] = 'university.degree'\n",
        "df.loc[(df['education']=='unknown') & (df['job']=='services'), 'education'] = 'high.school'\n",
        "df.loc[(df['education']=='unknown') & (df['job']=='housemaid'), 'education'] = 'basic.4y'\n",
        "df.loc[(df['job'] == 'unknown') & (df['education']=='basic.4y'), 'job'] = 'blue-collar'\n",
        "df.loc[(df['job'] == 'unknown') & (df['education']=='basic.6y'), 'job'] = 'blue-collar'\n",
        "df.loc[(df['job'] == 'unknown') & (df['education']=='basic.9y'), 'job'] = 'blue-collar'\n",
        "df.loc[(df['job']=='unknown') & (df['education']=='professional.course'), 'job'] = 'technician'"
      ],
      "execution_count": 13,
      "outputs": []
    },
    {
      "cell_type": "code",
      "metadata": {
        "id": "QVSIdfmwvGB2",
        "colab_type": "code",
        "colab": {
          "base_uri": "https://localhost:8080/",
          "height": 421
        },
        "outputId": "6eda099b-98e5-4a8f-f647-00537300d656"
      },
      "source": [
        "cross_tab(df,'job','education')"
      ],
      "execution_count": 14,
      "outputs": [
        {
          "output_type": "execute_result",
          "data": {
            "text/html": [
              "<div>\n",
              "<style scoped>\n",
              "    .dataframe tbody tr th:only-of-type {\n",
              "        vertical-align: middle;\n",
              "    }\n",
              "\n",
              "    .dataframe tbody tr th {\n",
              "        vertical-align: top;\n",
              "    }\n",
              "\n",
              "    .dataframe thead th {\n",
              "        text-align: right;\n",
              "    }\n",
              "</style>\n",
              "<table border=\"1\" class=\"dataframe\">\n",
              "  <thead>\n",
              "    <tr style=\"text-align: right;\">\n",
              "      <th></th>\n",
              "      <th>tertiary</th>\n",
              "      <th>secondary</th>\n",
              "      <th>unknown</th>\n",
              "      <th>primary</th>\n",
              "      <th>university.degree</th>\n",
              "      <th>high.school</th>\n",
              "      <th>basic.4y</th>\n",
              "    </tr>\n",
              "  </thead>\n",
              "  <tbody>\n",
              "    <tr>\n",
              "      <th>admin.</th>\n",
              "      <td>572</td>\n",
              "      <td>4219</td>\n",
              "      <td>171.0</td>\n",
              "      <td>209</td>\n",
              "      <td>0.0</td>\n",
              "      <td>0.0</td>\n",
              "      <td>0.0</td>\n",
              "    </tr>\n",
              "    <tr>\n",
              "      <th>blue-collar</th>\n",
              "      <td>149</td>\n",
              "      <td>5371</td>\n",
              "      <td>454.0</td>\n",
              "      <td>3758</td>\n",
              "      <td>0.0</td>\n",
              "      <td>0.0</td>\n",
              "      <td>0.0</td>\n",
              "    </tr>\n",
              "    <tr>\n",
              "      <th>entrepreneur</th>\n",
              "      <td>686</td>\n",
              "      <td>542</td>\n",
              "      <td>76.0</td>\n",
              "      <td>183</td>\n",
              "      <td>0.0</td>\n",
              "      <td>0.0</td>\n",
              "      <td>0.0</td>\n",
              "    </tr>\n",
              "    <tr>\n",
              "      <th>housemaid</th>\n",
              "      <td>173</td>\n",
              "      <td>395</td>\n",
              "      <td>0.0</td>\n",
              "      <td>627</td>\n",
              "      <td>0.0</td>\n",
              "      <td>0.0</td>\n",
              "      <td>45.0</td>\n",
              "    </tr>\n",
              "    <tr>\n",
              "      <th>management</th>\n",
              "      <td>7801</td>\n",
              "      <td>1121</td>\n",
              "      <td>0.0</td>\n",
              "      <td>294</td>\n",
              "      <td>242.0</td>\n",
              "      <td>0.0</td>\n",
              "      <td>0.0</td>\n",
              "    </tr>\n",
              "    <tr>\n",
              "      <th>retired</th>\n",
              "      <td>371</td>\n",
              "      <td>989</td>\n",
              "      <td>130.0</td>\n",
              "      <td>796</td>\n",
              "      <td>0.0</td>\n",
              "      <td>0.0</td>\n",
              "      <td>0.0</td>\n",
              "    </tr>\n",
              "    <tr>\n",
              "      <th>self-employed</th>\n",
              "      <td>833</td>\n",
              "      <td>577</td>\n",
              "      <td>39.0</td>\n",
              "      <td>130</td>\n",
              "      <td>0.0</td>\n",
              "      <td>0.0</td>\n",
              "      <td>0.0</td>\n",
              "    </tr>\n",
              "    <tr>\n",
              "      <th>services</th>\n",
              "      <td>202</td>\n",
              "      <td>3457</td>\n",
              "      <td>0.0</td>\n",
              "      <td>345</td>\n",
              "      <td>0.0</td>\n",
              "      <td>150.0</td>\n",
              "      <td>0.0</td>\n",
              "    </tr>\n",
              "    <tr>\n",
              "      <th>student</th>\n",
              "      <td>223</td>\n",
              "      <td>508</td>\n",
              "      <td>163.0</td>\n",
              "      <td>44</td>\n",
              "      <td>0.0</td>\n",
              "      <td>0.0</td>\n",
              "      <td>0.0</td>\n",
              "    </tr>\n",
              "    <tr>\n",
              "      <th>technician</th>\n",
              "      <td>1968</td>\n",
              "      <td>5229</td>\n",
              "      <td>242.0</td>\n",
              "      <td>158</td>\n",
              "      <td>0.0</td>\n",
              "      <td>0.0</td>\n",
              "      <td>0.0</td>\n",
              "    </tr>\n",
              "    <tr>\n",
              "      <th>unemployed</th>\n",
              "      <td>289</td>\n",
              "      <td>728</td>\n",
              "      <td>29.0</td>\n",
              "      <td>257</td>\n",
              "      <td>0.0</td>\n",
              "      <td>0.0</td>\n",
              "      <td>0.0</td>\n",
              "    </tr>\n",
              "    <tr>\n",
              "      <th>unknown</th>\n",
              "      <td>34</td>\n",
              "      <td>66</td>\n",
              "      <td>116.0</td>\n",
              "      <td>50</td>\n",
              "      <td>0.0</td>\n",
              "      <td>0.0</td>\n",
              "      <td>0.0</td>\n",
              "    </tr>\n",
              "  </tbody>\n",
              "</table>\n",
              "</div>"
            ],
            "text/plain": [
              "               tertiary  secondary  ...  high.school  basic.4y\n",
              "admin.              572       4219  ...          0.0       0.0\n",
              "blue-collar         149       5371  ...          0.0       0.0\n",
              "entrepreneur        686        542  ...          0.0       0.0\n",
              "housemaid           173        395  ...          0.0      45.0\n",
              "management         7801       1121  ...          0.0       0.0\n",
              "retired             371        989  ...          0.0       0.0\n",
              "self-employed       833        577  ...          0.0       0.0\n",
              "services            202       3457  ...        150.0       0.0\n",
              "student             223        508  ...          0.0       0.0\n",
              "technician         1968       5229  ...          0.0       0.0\n",
              "unemployed          289        728  ...          0.0       0.0\n",
              "unknown              34         66  ...          0.0       0.0\n",
              "\n",
              "[12 rows x 7 columns]"
            ]
          },
          "metadata": {
            "tags": []
          },
          "execution_count": 14
        }
      ]
    },
    {
      "cell_type": "markdown",
      "metadata": {
        "id": "Sr_qlTT8vGB5",
        "colab_type": "text"
      },
      "source": [
        "As we can see, we are able to reduce the number of unknowns and enhance our data set."
      ]
    },
    {
      "cell_type": "code",
      "metadata": {
        "id": "i_CA-650vGB6",
        "colab_type": "code",
        "colab": {}
      },
      "source": [
        "jobhousing=cross_tab(df,'job','housing')\n",
        "jobloan=cross_tab(df,'job','loan')"
      ],
      "execution_count": 15,
      "outputs": []
    },
    {
      "cell_type": "markdown",
      "metadata": {
        "id": "pzLTVT8cvGB9",
        "colab_type": "text"
      },
      "source": [
        "** Imputations for house and loan **: We are again using cross-tabulation between 'house' and 'job' and between 'loan' and 'job.' Our hypothesis is that housing loan status (Yes or No) should be in the proportion of each job category. Hence using the prior known distribution of the housing loan for each job category, the house loan for unknown people will be predicted such that the prior distribution (% House = Yes's and No's for each job category remains the same). Similarly, we have filled the missing values in the 'loan' variable. "
      ]
    },
    {
      "cell_type": "code",
      "metadata": {
        "id": "HLNzdmrPvGB-",
        "colab_type": "code",
        "colab": {}
      },
      "source": [
        "def fillhousing(df,jobhousing):\n",
        "    \"\"\"Function for imputation via cross-tabulation to fill missing values for the 'housing' categorical feature\"\"\"\n",
        "    jobs=['housemaid','services','admin.','blue-collar','technician','retired','management','unemployed','self-employed','entrepreneur','student']\n",
        "    house=[\"no\",\"yes\"]\n",
        "    for j in jobs:\n",
        "        ind=df[np.logical_and(np.array(df['housing']=='unknown'),np.array(df['job']==j))].index\n",
        "        mask=np.random.rand(len(ind))<((jobhousing.loc[j]['no'])/(jobhousing.loc[j]['no']+jobhousing.loc[j]['yes']))\n",
        "        ind1=ind[mask]\n",
        "        ind2=ind[~mask]\n",
        "        df.loc[ind1,\"housing\"]='no'\n",
        "        df.loc[ind2,\"housing\"]='yes'\n",
        "    return df"
      ],
      "execution_count": 16,
      "outputs": []
    },
    {
      "cell_type": "code",
      "metadata": {
        "id": "M0RXlU7PvGCG",
        "colab_type": "code",
        "colab": {}
      },
      "source": [
        "def fillloan(df,jobloan):\n",
        "    \"\"\"Function for imputation via cross-tabulation to fill missing values for the 'loan' categorical feature\"\"\"\n",
        "    jobs=['housemaid','services','admin.','blue-collar','technician','retired','management','unemployed','self-employed','entrepreneur','student']\n",
        "    loan=[\"no\",\"yes\"]\n",
        "    for j in jobs:\n",
        "        ind=df[np.logical_and(np.array(df['loan']=='unknown'),np.array(df['job']==j))].index\n",
        "        mask=np.random.rand(len(ind))<((jobloan.loc[j]['no'])/(jobloan.loc[j]['no']+jobloan.loc[j]['yes']))\n",
        "        ind1=ind[mask]\n",
        "        ind2=ind[~mask]\n",
        "        df.loc[ind1,\"loan\"]='no'\n",
        "        df.loc[ind2,\"loan\"]='yes'\n",
        "    return df"
      ],
      "execution_count": 17,
      "outputs": []
    },
    {
      "cell_type": "code",
      "metadata": {
        "id": "-y4EpsxXvGCK",
        "colab_type": "code",
        "colab": {}
      },
      "source": [
        "df=fillhousing(df,jobhousing)"
      ],
      "execution_count": 18,
      "outputs": []
    },
    {
      "cell_type": "code",
      "metadata": {
        "id": "rAACafkSvGCP",
        "colab_type": "code",
        "colab": {}
      },
      "source": [
        "df=fillloan(df,jobloan)"
      ],
      "execution_count": 19,
      "outputs": []
    },
    {
      "cell_type": "markdown",
      "metadata": {
        "id": "t_c5EzYVvGCT",
        "colab_type": "text"
      },
      "source": [
        "##  Numerical variables:"
      ]
    },
    {
      "cell_type": "markdown",
      "metadata": {
        "id": "nuBKpP09vGCU",
        "colab_type": "text"
      },
      "source": [
        "Let see the summary of the data in order to understand the numerical variables."
      ]
    },
    {
      "cell_type": "code",
      "metadata": {
        "id": "Gn6--U9evGCU",
        "colab_type": "code",
        "colab": {
          "base_uri": "https://localhost:8080/",
          "height": 297
        },
        "outputId": "31b81f20-079f-4c6b-d204-5c48de10b2d2"
      },
      "source": [
        "numerical_variables = ['age','campaign', 'pdays', 'previous']\n",
        "df[numerical_variables].describe()"
      ],
      "execution_count": 21,
      "outputs": [
        {
          "output_type": "execute_result",
          "data": {
            "text/html": [
              "<div>\n",
              "<style scoped>\n",
              "    .dataframe tbody tr th:only-of-type {\n",
              "        vertical-align: middle;\n",
              "    }\n",
              "\n",
              "    .dataframe tbody tr th {\n",
              "        vertical-align: top;\n",
              "    }\n",
              "\n",
              "    .dataframe thead th {\n",
              "        text-align: right;\n",
              "    }\n",
              "</style>\n",
              "<table border=\"1\" class=\"dataframe\">\n",
              "  <thead>\n",
              "    <tr style=\"text-align: right;\">\n",
              "      <th></th>\n",
              "      <th>age</th>\n",
              "      <th>campaign</th>\n",
              "      <th>pdays</th>\n",
              "      <th>previous</th>\n",
              "    </tr>\n",
              "  </thead>\n",
              "  <tbody>\n",
              "    <tr>\n",
              "      <th>count</th>\n",
              "      <td>45211.000000</td>\n",
              "      <td>45211.000000</td>\n",
              "      <td>45211.000000</td>\n",
              "      <td>45211.000000</td>\n",
              "    </tr>\n",
              "    <tr>\n",
              "      <th>mean</th>\n",
              "      <td>40.936210</td>\n",
              "      <td>2.763841</td>\n",
              "      <td>40.197828</td>\n",
              "      <td>0.580323</td>\n",
              "    </tr>\n",
              "    <tr>\n",
              "      <th>std</th>\n",
              "      <td>10.618762</td>\n",
              "      <td>3.098021</td>\n",
              "      <td>100.128746</td>\n",
              "      <td>2.303441</td>\n",
              "    </tr>\n",
              "    <tr>\n",
              "      <th>min</th>\n",
              "      <td>18.000000</td>\n",
              "      <td>1.000000</td>\n",
              "      <td>-1.000000</td>\n",
              "      <td>0.000000</td>\n",
              "    </tr>\n",
              "    <tr>\n",
              "      <th>25%</th>\n",
              "      <td>33.000000</td>\n",
              "      <td>1.000000</td>\n",
              "      <td>-1.000000</td>\n",
              "      <td>0.000000</td>\n",
              "    </tr>\n",
              "    <tr>\n",
              "      <th>50%</th>\n",
              "      <td>39.000000</td>\n",
              "      <td>2.000000</td>\n",
              "      <td>-1.000000</td>\n",
              "      <td>0.000000</td>\n",
              "    </tr>\n",
              "    <tr>\n",
              "      <th>75%</th>\n",
              "      <td>48.000000</td>\n",
              "      <td>3.000000</td>\n",
              "      <td>-1.000000</td>\n",
              "      <td>0.000000</td>\n",
              "    </tr>\n",
              "    <tr>\n",
              "      <th>max</th>\n",
              "      <td>95.000000</td>\n",
              "      <td>63.000000</td>\n",
              "      <td>871.000000</td>\n",
              "      <td>275.000000</td>\n",
              "    </tr>\n",
              "  </tbody>\n",
              "</table>\n",
              "</div>"
            ],
            "text/plain": [
              "                age      campaign         pdays      previous\n",
              "count  45211.000000  45211.000000  45211.000000  45211.000000\n",
              "mean      40.936210      2.763841     40.197828      0.580323\n",
              "std       10.618762      3.098021    100.128746      2.303441\n",
              "min       18.000000      1.000000     -1.000000      0.000000\n",
              "25%       33.000000      1.000000     -1.000000      0.000000\n",
              "50%       39.000000      2.000000     -1.000000      0.000000\n",
              "75%       48.000000      3.000000     -1.000000      0.000000\n",
              "max       95.000000     63.000000    871.000000    275.000000"
            ]
          },
          "metadata": {
            "tags": []
          },
          "execution_count": 21
        }
      ]
    },
    {
      "cell_type": "markdown",
      "metadata": {
        "id": "IG6NMqFDvGCX",
        "colab_type": "text"
      },
      "source": [
        "**Missing Values: **From the source of the data (U.C. Irvine ML Repository), we're told that the missing values, or NaNs, are encoded as '999'. From the above table, it is clear that only 'pdays' has missing values. Moreover, a majority of the values for 'pdays' are missing.\n",
        "\n",
        "**Outliers:** Outliers are defined as 1.5 x Q3 value (75th percentile). From the above table, it can be seen that only 'age' and 'campaign' have outliers as max('age') and max('campaign') > 1.5*Q3('age') and >1.5*Q3('campaign') respectively.\n",
        "\n",
        "But we also see that the value of these outliers are not so unrealistic (max('age')=98 and max('campaign')=56). Hence, we need not remove them since the prediction model should represent the real world. This improves the generalizability of the model and makes it robust for real world situations. The outliers, therefore, are not removed.\n"
      ]
    },
    {
      "cell_type": "markdown",
      "metadata": {
        "id": "iFt6bHzYvGCY",
        "colab_type": "text"
      },
      "source": [
        "## Missing Values in Numerical Variables\n",
        "Let's examine the missing values in 'pdays'"
      ]
    },
    {
      "cell_type": "code",
      "metadata": {
        "id": "-Iw9eeMlvGCY",
        "colab_type": "code",
        "colab": {}
      },
      "source": [
        "def drawhist(df,feature):\n",
        "    plt.hist(df[feature])"
      ],
      "execution_count": 22,
      "outputs": []
    },
    {
      "cell_type": "markdown",
      "metadata": {
        "id": "UtHIR5R3vGCb",
        "colab_type": "text"
      },
      "source": [
        "Filtered out missing values encoded with an out-of-range value when plotting the histogram of values in order to properly understand the distribution of the known values. Here, histograms were created using matplotlib."
      ]
    },
    {
      "cell_type": "code",
      "metadata": {
        "id": "wTKCmHT0vGCc",
        "colab_type": "code",
        "colab": {
          "base_uri": "https://localhost:8080/",
          "height": 513
        },
        "outputId": "2dbe37f1-866b-43d9-bb7d-0afb2ed51b77"
      },
      "source": [
        "drawhist(df,'pdays')\n",
        "plt.show()\n",
        "\n",
        "plt.hist(df.loc[df.pdays != 999, 'pdays'])\n",
        "plt.show()"
      ],
      "execution_count": 23,
      "outputs": [
        {
          "output_type": "display_data",
          "data": {
            "image/png": "[encoded data removed]",
            "text/plain": [
              "<Figure size 432x288 with 1 Axes>"
            ]
          },
          "metadata": {
            "tags": [],
            "needs_background": "light"
          }
        },
        {
          "output_type": "display_data",
          "data": {
            "image/png": "[encoded data removed]",
            "text/plain": [
              "<Figure size 432x288 with 1 Axes>"
            ]
          },
          "metadata": {
            "tags": [],
            "needs_background": "light"
          }
        }
      ]
    },
    {
      "cell_type": "code",
      "metadata": {
        "id": "iBzW55kKvGCf",
        "colab_type": "code",
        "colab": {
          "base_uri": "https://localhost:8080/",
          "height": 450
        },
        "outputId": "277864f4-6f01-4c76-de6d-68e750d6c24c"
      },
      "source": [
        "pd.crosstab(df['pdays'],df['poutcome'], values=df['age'], aggfunc='count', normalize=True)"
      ],
      "execution_count": 24,
      "outputs": [
        {
          "output_type": "execute_result",
          "data": {
            "text/html": [
              "<div>\n",
              "<style scoped>\n",
              "    .dataframe tbody tr th:only-of-type {\n",
              "        vertical-align: middle;\n",
              "    }\n",
              "\n",
              "    .dataframe tbody tr th {\n",
              "        vertical-align: top;\n",
              "    }\n",
              "\n",
              "    .dataframe thead th {\n",
              "        text-align: right;\n",
              "    }\n",
              "</style>\n",
              "<table border=\"1\" class=\"dataframe\">\n",
              "  <thead>\n",
              "    <tr style=\"text-align: right;\">\n",
              "      <th>poutcome</th>\n",
              "      <th>failure</th>\n",
              "      <th>other</th>\n",
              "      <th>success</th>\n",
              "      <th>unknown</th>\n",
              "    </tr>\n",
              "    <tr>\n",
              "      <th>pdays</th>\n",
              "      <th></th>\n",
              "      <th></th>\n",
              "      <th></th>\n",
              "      <th></th>\n",
              "    </tr>\n",
              "  </thead>\n",
              "  <tbody>\n",
              "    <tr>\n",
              "      <th>-1</th>\n",
              "      <td>0.000000</td>\n",
              "      <td>0.000000</td>\n",
              "      <td>0.000000</td>\n",
              "      <td>0.817367</td>\n",
              "    </tr>\n",
              "    <tr>\n",
              "      <th>1</th>\n",
              "      <td>0.000066</td>\n",
              "      <td>0.000066</td>\n",
              "      <td>0.000199</td>\n",
              "      <td>0.000000</td>\n",
              "    </tr>\n",
              "    <tr>\n",
              "      <th>2</th>\n",
              "      <td>0.000022</td>\n",
              "      <td>0.000774</td>\n",
              "      <td>0.000022</td>\n",
              "      <td>0.000000</td>\n",
              "    </tr>\n",
              "    <tr>\n",
              "      <th>3</th>\n",
              "      <td>0.000000</td>\n",
              "      <td>0.000022</td>\n",
              "      <td>0.000000</td>\n",
              "      <td>0.000000</td>\n",
              "    </tr>\n",
              "    <tr>\n",
              "      <th>4</th>\n",
              "      <td>0.000022</td>\n",
              "      <td>0.000000</td>\n",
              "      <td>0.000022</td>\n",
              "      <td>0.000000</td>\n",
              "    </tr>\n",
              "    <tr>\n",
              "      <th>...</th>\n",
              "      <td>...</td>\n",
              "      <td>...</td>\n",
              "      <td>...</td>\n",
              "      <td>...</td>\n",
              "    </tr>\n",
              "    <tr>\n",
              "      <th>838</th>\n",
              "      <td>0.000000</td>\n",
              "      <td>0.000022</td>\n",
              "      <td>0.000000</td>\n",
              "      <td>0.000000</td>\n",
              "    </tr>\n",
              "    <tr>\n",
              "      <th>842</th>\n",
              "      <td>0.000022</td>\n",
              "      <td>0.000000</td>\n",
              "      <td>0.000000</td>\n",
              "      <td>0.000000</td>\n",
              "    </tr>\n",
              "    <tr>\n",
              "      <th>850</th>\n",
              "      <td>0.000022</td>\n",
              "      <td>0.000000</td>\n",
              "      <td>0.000000</td>\n",
              "      <td>0.000000</td>\n",
              "    </tr>\n",
              "    <tr>\n",
              "      <th>854</th>\n",
              "      <td>0.000022</td>\n",
              "      <td>0.000000</td>\n",
              "      <td>0.000000</td>\n",
              "      <td>0.000000</td>\n",
              "    </tr>\n",
              "    <tr>\n",
              "      <th>871</th>\n",
              "      <td>0.000022</td>\n",
              "      <td>0.000000</td>\n",
              "      <td>0.000000</td>\n",
              "      <td>0.000000</td>\n",
              "    </tr>\n",
              "  </tbody>\n",
              "</table>\n",
              "<p>559 rows × 4 columns</p>\n",
              "</div>"
            ],
            "text/plain": [
              "poutcome   failure     other   success   unknown\n",
              "pdays                                           \n",
              "-1        0.000000  0.000000  0.000000  0.817367\n",
              " 1        0.000066  0.000066  0.000199  0.000000\n",
              " 2        0.000022  0.000774  0.000022  0.000000\n",
              " 3        0.000000  0.000022  0.000000  0.000000\n",
              " 4        0.000022  0.000000  0.000022  0.000000\n",
              "...            ...       ...       ...       ...\n",
              " 838      0.000000  0.000022  0.000000  0.000000\n",
              " 842      0.000022  0.000000  0.000000  0.000000\n",
              " 850      0.000022  0.000000  0.000000  0.000000\n",
              " 854      0.000022  0.000000  0.000000  0.000000\n",
              " 871      0.000022  0.000000  0.000000  0.000000\n",
              "\n",
              "[559 rows x 4 columns]"
            ]
          },
          "metadata": {
            "tags": []
          },
          "execution_count": 24
        }
      ]
    },
    {
      "cell_type": "markdown",
      "metadata": {
        "id": "U6SPQU1rvGCj",
        "colab_type": "text"
      },
      "source": [
        "As we can see from the above table, the majority of the values for 'pdays' are missing. The majority of these missing values occur when the 'poutcome' is 'non-existent'. This means that the majority of the values in 'pdays' are missing because the customer was never contacted before. To deal with this variable, we removed the numerical variable 'pdays' and replaced it with categorical variables with following categories: p_days_missing, pdays_less_5, pdays_bet_5_15, and pdays_greater_15."
      ]
    },
    {
      "cell_type": "code",
      "metadata": {
        "id": "n07gcW9JvGCk",
        "colab_type": "code",
        "colab": {}
      },
      "source": [
        "#Add new categorical variables to our dataframe.\n",
        "df['pdays_missing'] = 0\n",
        "df['pdays_less_5'] = 0\n",
        "df['pdays_greater_15'] = 0\n",
        "df['pdays_bet_5_15'] = 0\n",
        "df['pdays_missing'][df['pdays']==999] = 1\n",
        "df['pdays_less_5'][df['pdays']<5] = 1\n",
        "df['pdays_greater_15'][(df['pdays']>15) & (df['pdays']<999)] = 1\n",
        "df['pdays_bet_5_15'][(df['pdays']>=5)&(df['pdays']<=15)]= 1\n",
        "df_dropped_pdays = df.drop('pdays', axis=1);"
      ],
      "execution_count": 25,
      "outputs": []
    },
    {
      "cell_type": "markdown",
      "metadata": {
        "id": "OmRhjbohvGCq",
        "colab_type": "text"
      },
      "source": [
        "Since we have many categorical variables, dummy variables needs to be created for those vaiables. "
      ]
    },
    {
      "cell_type": "code",
      "metadata": {
        "id": "MuLIO0gmvGCr",
        "colab_type": "code",
        "colab": {}
      },
      "source": [
        "df_with_dummies=pd.get_dummies(df_dropped_pdays)"
      ],
      "execution_count": 26,
      "outputs": []
    },
    {
      "cell_type": "markdown",
      "metadata": {
        "id": "WUtC8v5YvGCv",
        "colab_type": "text"
      },
      "source": [
        "Drop one of the dummy variables as for $n$ categories we only need $n$-1 dummy variables."
      ]
    },
    {
      "cell_type": "code",
      "metadata": {
        "id": "KRy5ZRJgvGCw",
        "colab_type": "code",
        "colab": {}
      },
      "source": [
        "def dropfeature(df,f):\n",
        "    \"\"\"Drops one of the dummy variables.\"\"\"\n",
        "    df=df.drop(f,axis=1)\n",
        "    return df"
      ],
      "execution_count": 27,
      "outputs": []
    },
    {
      "cell_type": "code",
      "metadata": {
        "id": "UqDomY6kvGCz",
        "colab_type": "code",
        "colab": {}
      },
      "source": [
        "features_dropped = ['default_no','housing_no','loan_no','y_no','marital_single','contact_cellular',\n",
        "                    'education_unknown','job_unknown', 'pdays_less_5']\n",
        "df_clean = dropfeature(df_with_dummies, features_dropped)"
      ],
      "execution_count": 32,
      "outputs": []
    },
    {
      "cell_type": "markdown",
      "metadata": {
        "id": "12MxixlvvGC3",
        "colab_type": "text"
      },
      "source": [
        "## Some helper functions to build and evaluate the models"
      ]
    },
    {
      "cell_type": "code",
      "metadata": {
        "id": "lqHZ6LfRvGC4",
        "colab_type": "code",
        "colab": {}
      },
      "source": [
        "def drawheatmap(df):\n",
        "    '''Builds the heat map for the given data'''\n",
        "    f, ax = plt.subplots(figsize=(15, 15))\n",
        "    sns.heatmap(df.corr(method='spearman'), annot=False, cmap='coolwarm')\n",
        "    \n",
        "def drawhist(df,feature):\n",
        "    '''Draws an histogram for a feature in a data frame (df)'''\n",
        "    plt.hist(df[feature])\n",
        "\n",
        "def functionreplace(df,fea,val1,val2):\n",
        "    '''Replaces value (val1) with value (val2) in the data frame (df) for a feature (fea)'''\n",
        "    df[fea].replace(val1,val2)\n",
        "    return df\n",
        "\n",
        "def drawbarplot(df,x,y):\n",
        "    '''Draws a bar plot for a given feature x and y in a data frame'''\n",
        "    sns.barplot(x=x, y=y, data=df)\n",
        "    "
      ],
      "execution_count": 33,
      "outputs": []
    },
    {
      "cell_type": "code",
      "metadata": {
        "id": "41s5nl4SvGC7",
        "colab_type": "code",
        "colab": {
          "base_uri": "https://localhost:8080/",
          "height": 998
        },
        "outputId": "7d23b1d2-bb56-4182-9a02-adec8f540fc1"
      },
      "source": [
        "drawheatmap(df_clean)"
      ],
      "execution_count": 34,
      "outputs": [
        {
          "output_type": "display_data",
          "data": {
            "image/png": "[encoded data removed]",
            "text/plain": [
              "<Figure size 1080x1080 with 2 Axes>"
            ]
          },
          "metadata": {
            "tags": [],
            "needs_background": "light"
          }
        }
      ]
    },
    {
      "cell_type": "markdown",
      "metadata": {
        "id": "gnctNdWhvGC_",
        "colab_type": "text"
      },
      "source": [
        "**Inferences**: From the above heat map we can see that 'y_yes' (our target variable) has good correlation with **'previous', 'pdays_missing', 'poutcome_success' , 'poutcome_unknown'and 'pdays_bet_5_15'**. We expect to see these independent variables as significant while building the models."
      ]
    },
    {
      "cell_type": "code",
      "metadata": {
        "id": "RRt23DtOvGC_",
        "colab_type": "code",
        "colab": {}
      },
      "source": [
        "def getmeanauc(aucs,model):\n",
        "    ''' Calculates the mean AUC for all the cross-validated samples and computes the value of C (Regularization Parameter) \n",
        "    for which max mean auc is obtained'''\n",
        "    #Initialize empty array to hold mean AUC values.\n",
        "    meanauc = []\n",
        "    maxmean = 0 #Initial value for maximum mean AUC\n",
        "    models_with_1_param = ['Logistic_Regression' , 'Ada_Boost']\n",
        "    models_with_2_params = ['Decision_Tree' , 'Random_Forest', 'Grad_Boost']\n",
        "    for c in aucs: #For loop to append AUC value to meanauc array.\n",
        "        meanauc.append(np.mean(aucs[c]))\n",
        "        if maxmean < np.mean(aucs[c]):\n",
        "            maxmean = np.mean(aucs[c]) #Adjust value of maxmean\n",
        "            cval = c\n",
        "    if model in models_with_1_param:\n",
        "        print(\"C value for max auc is: \",cval)\n",
        "        print(\"Max Mean Auc corresponding to the optimal value of C = \", maxmean)\n",
        "        return meanauc,cval\n",
        "    if model in models_with_2_params:\n",
        "        listSL=cval.split('L')\n",
        "        splitval=int(listSL[0]) #Stores minimum split value for max AUC\n",
        "        leafval=int(listSL[1]) #Stores minimum leaf value for max AUC\n",
        "        print(\"min_sample_split value for max auc is:\",splitval)\n",
        "        print(\"min_sample_leaf value for max auc is:\",leafval)\n",
        "        print(\"Max mean AUC corresponding to optimal leaf and split value = \",maxmean)\n",
        "        return meanauc,splitval,leafval\n",
        "\n",
        "def plot_mean_auc_LR(aucs,cs, label):\n",
        "    '''Plots different values of mean auc versus the hyperparameter C'''\n",
        "    plt.plot(np.log10(cs),aucs, label = label )\n",
        "    plt.xlabel(\"C (Regularization Parameter)\")\n",
        "    plt.ylabel(\"Mean AUC\")\n",
        "    plt.legend()\n",
        "        \n",
        "def plotfeatureimportances(train, importance):\n",
        "    '''Plots feature importance in a sorted order and shows the most significant variables at the top'''\n",
        "    X = list(train.columns)\n",
        "    X.remove('y_yes')\n",
        "    feature_importance_df = pd.DataFrame(data = importance, index = X, columns=['coefficient_values'])\n",
        "    feature_importance_df['sort'] = feature_importance_df.coefficient_values.abs()\n",
        "    sorted_feature_imp_df = feature_importance_df.sort_values(by='sort', ascending=False).drop('sort', axis=1)\n",
        "    fig, ax = plt.subplots()\n",
        "    fig.set_size_inches(10, 15)\n",
        "    sns.barplot(np.array(sorted_feature_imp_df.coefficient_values), np.array(sorted_feature_imp_df.index.values))\n",
        "    plt.title('Feature Importances')\n",
        "    plt.xlabel('Coefficients')\n",
        "    plt.ylabel('Feature Names')\n",
        "    \n",
        "def plotfeatureimp(fl,col):\n",
        "    '''Plots the feature importance of all the independent variables in the model'''\n",
        "    f=plt.figure(figsize=(10,15))\n",
        "    plt.barh(range(len(fl)),fl)\n",
        "    plt.yticks(range(len(col[:-1])),col[:-1])\n",
        "    \n",
        "def plotAUCDTRF(aucs,leafs,splits):\n",
        "    '''Plots AUC for each value of Leaf and Split combination'''\n",
        "    for i in range(len(splits)):\n",
        "        plt.plot(leafs,aucs[len(leafs)*i:len(leafs)*i+len(leafs)], label = 'Split value= ' + str(splits[i]))\n",
        "    plt.legend()\n",
        "    plt.xlabel('Leaf Values')\n",
        "    plt.ylabel('Mean AUC')\n",
        "    \n",
        "def plot_mean_auc_Ada_Boost(aucs, estimators, label):\n",
        "    '''Plots different values of mean auc versus the Estimators for AdaBoosting'''\n",
        "    plt.plot(estimators,aucs, label = label )\n",
        "    plt.xlabel(\"Estimators\")\n",
        "    plt.ylabel(\"Mean AUC\")\n",
        "    plt.legend()\n",
        "        "
      ],
      "execution_count": 35,
      "outputs": []
    },
    {
      "cell_type": "markdown",
      "metadata": {
        "id": "GIFUGgslvGDD",
        "colab_type": "text"
      },
      "source": [
        "# Model Building and Evaluation"
      ]
    },
    {
      "cell_type": "markdown",
      "metadata": {
        "id": "Y_SBUYS3vGDD",
        "colab_type": "text"
      },
      "source": [
        "**Train Test Split **: First we start with splitting the data into training and testing. For all the models, five-fold cross validation will be used.\n",
        "\n",
        "Used stratification (keeping the target distribution unchanged) since dataset is highly imbalanced. A random train/test split will probably change the target distribution quite a bit."
      ]
    },
    {
      "cell_type": "code",
      "metadata": {
        "id": "a_h2NraLvGDE",
        "colab_type": "code",
        "colab": {
          "base_uri": "https://localhost:8080/",
          "height": 51
        },
        "outputId": "79fc1ef3-77f2-4fc7-8d1a-0bcccd593f6f"
      },
      "source": [
        "from sklearn.model_selection import train_test_split\n",
        "train, test = train_test_split(df_clean, train_size=0.8, random_state=5)\n",
        "print('Original:', (df_clean.y_yes).mean(), 'Train:', (train.y_yes).mean(), 'Test:', (test.y_yes).mean())\n",
        "\n",
        "train, test = train_test_split(df_clean, train_size=0.8, stratify=df_clean.y_yes.values, random_state=5)\n",
        "print('Original:', (df_clean.y_yes).mean(), 'Train:', (train.y_yes).mean(), 'Test:', (test.y_yes).mean())"
      ],
      "execution_count": 36,
      "outputs": [
        {
          "output_type": "stream",
          "text": [
            "Original: 0.11698480458295547 Train: 0.11731364742313648 Test: 0.11566957867964171\n",
            "Original: 0.11698480458295547 Train: 0.11698186241981863 Test: 0.11699657193409267\n"
          ],
          "name": "stdout"
        }
      ]
    },
    {
      "cell_type": "markdown",
      "metadata": {
        "id": "pr6TGrMlvGDH",
        "colab_type": "text"
      },
      "source": [
        "## Logistic Regression Model\n",
        "Here, we build the Logistic Regression model and evaluate it using the ROC curve and the AUC values. Since we know that the positive and the negative class are heavily imbalanced, the ROC curve and the AUC values are appropriate evaluation metrics as compared to the accuracy. For all the future models, the ROC curve and the AUC values are used as the evaluation metric.\n"
      ]
    },
    {
      "cell_type": "code",
      "metadata": {
        "id": "GoGXuM7fvGDI",
        "colab_type": "code",
        "colab": {}
      },
      "source": [
        "from sklearn import metrics\n",
        "from sklearn.linear_model import LogisticRegression\n",
        "from sklearn.preprocessing import StandardScaler\n",
        "def LRmodel(train , validate , c, l_1 = False):\n",
        "    '''Fits the Logistic Regression Model on the training data set and calculates evaluation metrics on the validation set\n",
        "    with the regularization constant C'''\n",
        "    X=list(train.columns) #Create list of column labels from training data\n",
        "    Y='y_yes'\n",
        "    X.remove('y_yes')\n",
        "    scaler = StandardScaler().fit(train[X]) #Standardize features by removing the mean and scaling to unit variance\n",
        "    train_std = scaler.transform(train[X]) #Compute the mean and standard deviation on training set\n",
        "    validate_std = scaler.transform(validate[X])\n",
        "    xtrain = train_std\n",
        "    ytrain = train[Y]\n",
        "    xval = validate_std\n",
        "    yval = validate[Y]\n",
        "    if l_1:\n",
        "        logreg = LogisticRegression(C = c, penalty= 'none') #Apply logistic regression on L1 penalty\n",
        "    else:\n",
        "        logreg = LogisticRegression(C=c)\n",
        "    logreg.fit(xtrain,ytrain)\n",
        "    pred_proba_val = logreg.predict_proba(xval)[:,1]\n",
        "    auc = metrics.roc_auc_score(yval, pred_proba_val)\n",
        "    fpr, tpr, threshold = metrics.roc_curve(yval, pred_proba_val)\n",
        "    accuracy = metrics.accuracy_score(yval, logreg.predict(xval))\n",
        "    return auc,logreg.coef_, tpr, fpr, threshold, accuracy\n"
      ],
      "execution_count": 54,
      "outputs": []
    },
    {
      "cell_type": "markdown",
      "metadata": {
        "id": "dM87dnvqvGDM",
        "colab_type": "text"
      },
      "source": [
        "## Cross-Validation and Tuning the hyperparameters for Logistic Regression:"
      ]
    },
    {
      "cell_type": "markdown",
      "metadata": {
        "id": "AxcfLo3HvGDM",
        "colab_type": "text"
      },
      "source": [
        "Tuning of the models is done simulataneously with cross-validation. Tuning is basically done to decide the optimal regularization parameter for Logistic Regression and Linear SVM.\n"
      ]
    },
    {
      "cell_type": "code",
      "metadata": {
        "id": "ir0yHM2nvGDN",
        "colab_type": "code",
        "colab": {}
      },
      "source": [
        "from sklearn.model_selection import KFold\n",
        "from sklearn import metrics\n",
        "from sklearn import preprocessing\n",
        "from sklearn.datasets import make_classification\n",
        "\n",
        "def kfoldlr(dataset , k , cs, l1_penalty = False):\n",
        "    '''Performs kfold cross validation for the dataset and also searches for the optimal regularixation parameter '''\n",
        "    aucs = {}\n",
        "    # old one ----> kf = KFold(len(dataset),k) #Provides indices to split data in train/test sets\n",
        "    # generate 2 class dataset\n",
        "    X, y = make_classification(n_samples=len(dataset), n_classes=2, weights=[0.99, 0.01], flip_y=0, random_state=1)\n",
        "    kfold = KFold(n_splits=k, shuffle=True, random_state=1)\n",
        "    # enumerate the splits and summarize the distributions\n",
        "    for train_idx, vali_idx in kfold.split(X): #For loop to extract and append AUC values to array from training data\n",
        "        cv_train,cv_validate=dataset.iloc[train_idx,:], dataset.iloc[vali_idx,:]\n",
        "        for c in cs:\n",
        "            auc, f_imp, tpr, fpr, threshold, accuracy = LRmodel(cv_train,cv_validate,c, l_1 = l1_penalty)\n",
        "            if c in aucs:\n",
        "                aucs[c].append(auc)\n",
        "            else:\n",
        "                aucs[c]=[]\n",
        "                aucs[c].append(auc)\n",
        "    return aucs"
      ],
      "execution_count": 59,
      "outputs": []
    },
    {
      "cell_type": "markdown",
      "metadata": {
        "id": "H9HtsBJzvGDS",
        "colab_type": "text"
      },
      "source": [
        "The possible values of Cs (Regularization Parameter) are taken between $10^{-4}$ to $10^{5}$. "
      ]
    },
    {
      "cell_type": "code",
      "metadata": {
        "id": "L4Pc7aZSvGDT",
        "colab_type": "code",
        "colab": {}
      },
      "source": [
        "cs = np.logspace(-4,5,10)\n",
        "aucs_l2=kfoldlr(train , 5 , cs)\n",
        "aucs_l1=kfoldlr(train , 5 , cs, l1_penalty= True)"
      ],
      "execution_count": 60,
      "outputs": []
    },
    {
      "cell_type": "code",
      "metadata": {
        "scrolled": true,
        "id": "O-0w3E4yvGDZ",
        "colab_type": "code",
        "colab": {
          "base_uri": "https://localhost:8080/",
          "height": 85
        },
        "outputId": "ad7c004c-b2ce-4a8b-eed3-cc3734c685e1"
      },
      "source": [
        "means_l2,cval_l2 = getmeanauc(aucs_l2,'Logistic_Regression')\n",
        "means_l1,cval_l1 = getmeanauc(aucs_l1,'Logistic_Regression')"
      ],
      "execution_count": 61,
      "outputs": [
        {
          "output_type": "stream",
          "text": [
            "C value for max auc is:  0.001\n",
            "Max Mean Auc corresponding to the optimal value of C =  0.9065677487651016\n",
            "C value for max auc is:  0.0001\n",
            "Max Mean Auc corresponding to the optimal value of C =  0.9050478246051412\n"
          ],
          "name": "stdout"
        }
      ]
    },
    {
      "cell_type": "markdown",
      "metadata": {
        "id": "4M1FI9wvvGDb",
        "colab_type": "text"
      },
      "source": [
        "**Inferences**: The Logistic regression is performing well and from the above run, its evident that LR is performing better with L2 regularization parameter than with L1 regularization parameter."
      ]
    },
    {
      "cell_type": "code",
      "metadata": {
        "id": "eLe0HzzHvGDc",
        "colab_type": "code",
        "colab": {
          "base_uri": "https://localhost:8080/",
          "height": 279
        },
        "outputId": "4bb568b0-6eaa-49dd-95de-72ab2a242c08"
      },
      "source": [
        "plot_mean_auc_LR(means_l2,cs, label = 'L2')\n",
        "plot_mean_auc_LR(means_l1,cs, label = 'L1')"
      ],
      "execution_count": 62,
      "outputs": [
        {
          "output_type": "display_data",
          "data": {
            "image/png": "[encoded data removed]",
            "text/plain": [
              "<Figure size 432x288 with 1 Axes>"
            ]
          },
          "metadata": {
            "tags": [],
            "needs_background": "light"
          }
        }
      ]
    },
    {
      "cell_type": "markdown",
      "metadata": {
        "id": "Idrm0kcTvGDf",
        "colab_type": "text"
      },
      "source": [
        "## Decision Tree Model"
      ]
    },
    {
      "cell_type": "code",
      "metadata": {
        "id": "i5cHtWAYvGDf",
        "colab_type": "code",
        "colab": {}
      },
      "source": [
        "from sklearn.tree import DecisionTreeClassifier\n",
        "from sklearn import metrics\n",
        "def DTmodel(train,validation,leaf=1,split=2):\n",
        "    '''Decision Tree model to fit the train set to decision tree and predict AUC on test/validation set'''\n",
        "    X=list(train.columns) #Create list of column labels from training data\n",
        "    Y='y_yes'\n",
        "    X.remove('y_yes')\n",
        "    xtrain=train[X] \n",
        "    ytrain=train[Y]\n",
        "    xval=validation[X]\n",
        "    yval=validation[Y]\n",
        "    \n",
        "    #Runs sklearn's decision tree algorithm on the training data with min leaf size 1 and split size 2\n",
        "    dt=DecisionTreeClassifier(criterion='entropy',min_samples_leaf=leaf,min_samples_split=split) \n",
        "    \n",
        "    #Train the model\n",
        "    dt.fit(xtrain,ytrain)\n",
        "    predict_proba_val=dt.predict_proba(xval)[:,1] #Predict class probabilities of input validation data\n",
        "    auc=metrics.roc_auc_score(yval,predict_proba_val) #Compute ROC AUC from prediction scores\n",
        "    fpr,tpr,threshold=metrics.roc_curve(yval,predict_proba_val) #Compute ROC\n",
        "    accuracy=metrics.accuracy_score(yval,dt.predict(xval)) #Compute subset accuracy classification score\n",
        "    \n",
        "    #Feature importances. The higher the score, the more important the feature. \n",
        "    #Computed as the normalized total reduction of the criterion brought by that feature.\n",
        "    imp=dt.feature_importances_ \n",
        "    return auc,imp,tpr,fpr,threshold,accuracy"
      ],
      "execution_count": 63,
      "outputs": []
    },
    {
      "cell_type": "markdown",
      "metadata": {
        "id": "LonEz0j3vGDk",
        "colab_type": "text"
      },
      "source": [
        "## Cross Validation and Hyper Parameter Tuning for Decision Tree:"
      ]
    },
    {
      "cell_type": "code",
      "metadata": {
        "id": "GGtXxnI5vGDk",
        "colab_type": "code",
        "colab": {}
      },
      "source": [
        "from sklearn.model_selection import KFold\n",
        "from sklearn import metrics\n",
        "from sklearn import preprocessing\n",
        "from sklearn.datasets import make_classification\n",
        "\n",
        "def kfoldDTRF(dataset, k,split,leaf,model):\n",
        "    '''K-fold validation function for Decision tree and Random Forest. K=5, hence input data set is divided \n",
        "    into 5 datasets out of which 4 of them will be used to fit model and one to validate the model in each iteration '''\n",
        "    aucs={}\n",
        "    X, y = make_classification(n_samples=len(dataset), n_classes=2, weights=[0.99, 0.01], flip_y=0, random_state=1)\n",
        "    kfold = KFold(n_splits=k, shuffle=True, random_state=1)\n",
        "    # enumerate the splits and summarize the distributions\n",
        "    for train_idx, vali_idx in kfold.split(X):\n",
        "        cv_train,cv_validate=dataset.iloc[train_idx,:], dataset.iloc[vali_idx,:]\n",
        "        for sp in split:\n",
        "            for lf in leaf:\n",
        "                if model=='DT':\n",
        "                    #Run decision tree function above based on user input\n",
        "                    core,fimp,tpr,fpr,threshold,accuracy=DTmodel(cv_train,cv_validate,lf,sp)\n",
        "                if model=='RF':\n",
        "                    #Run random forest function below based on user input\n",
        "                    core,fimp,tpr,fpr,threshold,accuracy=randomforrest(cv_train,cv_validate,lf,sp)\n",
        "                \n",
        "                if str(sp)+\"L\"+str(lf) in aucs:\n",
        "                    aucs[str(sp)+\"L\"+str(lf)].append(core)\n",
        "                else:\n",
        "                    aucs[str(sp)+\"L\"+str(lf)]=[]\n",
        "                    aucs[str(sp)+\"L\"+str(lf)].append(core)\n",
        "    return aucs\n"
      ],
      "execution_count": 67,
      "outputs": []
    },
    {
      "cell_type": "markdown",
      "metadata": {
        "id": "JlEV205NvGDq",
        "colab_type": "text"
      },
      "source": [
        "min_sample_split_value and min_sample_leaf are hyper paremeters for Decision Tree and Random Forest indicating minimum split size and minimum leaf size. The range of value taken for split is [10,2000] and the range for leaf is [5,200]. Hence, there are 100 combination of split and leaf values. For each of these combinations, the AUC is calculated."
      ]
    },
    {
      "cell_type": "code",
      "metadata": {
        "id": "g_ZJR7TcvGDr",
        "colab_type": "code",
        "colab": {}
      },
      "source": [
        "split = np.geomspace(10,2000,num=10,dtype=int)\n",
        "leaf = np.geomspace(5,200,num=10,dtype=int)\n",
        "aucsdt=kfoldDTRF(train,5,split,leaf,'DT')"
      ],
      "execution_count": 69,
      "outputs": []
    },
    {
      "cell_type": "code",
      "metadata": {
        "id": "zmqMhb_5vGDy",
        "colab_type": "code",
        "colab": {
          "base_uri": "https://localhost:8080/",
          "height": 330
        },
        "outputId": "c75ef26d-0302-4735-8440-814c7460efe2"
      },
      "source": [
        "meanauc,splitval,leafval=getmeanauc(aucsdt,'Decision_Tree')\n",
        "plotAUCDTRF(meanauc,leaf,split)"
      ],
      "execution_count": 70,
      "outputs": [
        {
          "output_type": "stream",
          "text": [
            "min_sample_split value for max auc is: 341\n",
            "min_sample_leaf value for max auc is: 7\n",
            "Max mean AUC corresponding to optimal leaf and split value =  0.9099799830959698\n"
          ],
          "name": "stdout"
        },
        {
          "output_type": "display_data",
          "data": {
            "image/png": "[encoded data removed]",
            "text/plain": [
              "<Figure size 432x288 with 1 Axes>"
            ]
          },
          "metadata": {
            "tags": [],
            "needs_background": "light"
          }
        }
      ]
    },
    {
      "cell_type": "markdown",
      "metadata": {
        "id": "ZOTUoZGevGD4",
        "colab_type": "text"
      },
      "source": [
        "**Inference: **It's evident that the Decision Tree is performing slightly better than Logistic Regression."
      ]
    },
    {
      "cell_type": "markdown",
      "metadata": {
        "id": "bexprT5-vGD5",
        "colab_type": "text"
      },
      "source": [
        "## Random Forest Model"
      ]
    },
    {
      "cell_type": "code",
      "metadata": {
        "id": "nQhTEdMUvGD6",
        "colab_type": "code",
        "colab": {}
      },
      "source": [
        "from sklearn.ensemble import RandomForestClassifier\n",
        "\n",
        "def randomforrest(train,validation,leaf=1,split=2):\n",
        "    '''Random Forest model to fit the training set to random forest and compute AUC on test/validation set'''\n",
        "    X=list(train.columns) #Provides indices to split data in train/test sets\n",
        "    Y='y_yes'\n",
        "    X.remove('y_yes')\n",
        "    xtrain=train[X]\n",
        "    ytrain=train[Y]\n",
        "    xval=validation[X]\n",
        "    yval=validation[Y]\n",
        "    \n",
        "    #Run sklearn's random forest algorithm with 128 trees and a minimum split size of 2 and minimum leaf size 1\n",
        "    random_forest = RandomForestClassifier(n_estimators=128,min_samples_split=split,min_samples_leaf=leaf)\n",
        "    \n",
        "    #Train the model\n",
        "    random_forest.fit(xtrain,ytrain)\n",
        "    \n",
        "    #Predict target values\n",
        "    Y_pred = random_forest.predict(xval)\n",
        "    \n",
        "    #Predict class probabilities of input validation data\n",
        "    proba_val=random_forest.predict_proba(xval)[:,1]\n",
        "    \n",
        "    #Compute ROC\n",
        "    fpr, tpr, thresholds=metrics.roc_curve(yval,proba_val)\n",
        "    \n",
        "    #Compute ROC AUC scores from prediction values\n",
        "    score=metrics.roc_auc_score(yval,proba_val)\n",
        "    \n",
        "    #Feature importances. The higher the score, the more important the feature. \n",
        "    #Computed as the normalized total reduction of the criterion brought by that feature.\n",
        "    importance=random_forest.feature_importances_\n",
        "    accuracy=metrics.accuracy_score(yval,random_forest.predict(xval))\n",
        "    return score,importance,tpr,fpr,thresholds,accuracy"
      ],
      "execution_count": 71,
      "outputs": []
    },
    {
      "cell_type": "markdown",
      "metadata": {
        "id": "AHZRQwlBvGD_",
        "colab_type": "text"
      },
      "source": [
        "## Cross Validation and Hyper Parameter Tuning for Random Forest:"
      ]
    },
    {
      "cell_type": "markdown",
      "metadata": {
        "id": "SxgAthdFvGD_",
        "colab_type": "text"
      },
      "source": [
        "min_sample_split_value and min_sample_leaf are hyper parameters for random forest indicating minimum split size and minimum leaf size. The range of value taken for split is [10,2000] and the range for leaf is [5,200]. hence, there are 100 combination of split and leaf values. For each of these combinations, the AUC is calculated."
      ]
    },
    {
      "cell_type": "code",
      "metadata": {
        "id": "LIfo8RjvvGEA",
        "colab_type": "code",
        "colab": {}
      },
      "source": [
        "RF_split = np.geomspace(10,2000,num=10,dtype=int)\n",
        "RF_leaf = np.geomspace(5,200,num=10,dtype=int)\n",
        "\n",
        "RF_auc=kfoldDTRF(train,5,RF_split,RF_leaf,'RF')"
      ],
      "execution_count": null,
      "outputs": []
    },
    {
      "cell_type": "code",
      "metadata": {
        "id": "vihxGlgnvGED",
        "colab_type": "code",
        "colab": {}
      },
      "source": [
        "RF_aucs,RF_splitval,RF_leafval=getmeanauc(RF_auc,'Random_Forest')\n",
        "plotAUCDTRF(RF_aucs,RF_leaf,RF_split)"
      ],
      "execution_count": null,
      "outputs": []
    },
    {
      "cell_type": "markdown",
      "metadata": {
        "id": "BujnenCVvGEG",
        "colab_type": "text"
      },
      "source": [
        "**Inference**: It's evident that Random Forest is performing better than both the Logistic Regression and Decision Tree models."
      ]
    }
  ]
}